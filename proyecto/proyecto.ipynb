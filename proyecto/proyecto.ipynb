{
 "cells": [
  {
   "cell_type": "markdown",
   "metadata": {},
   "source": [
    "# Sesion 3: Taller de tecnicas de modelado computacional de fluidos\n",
    "\n",
    "## Elementos Finitos: Metodo Galerkin Discontinuo\n",
    "\n",
    "**Por: Erick Urquilla, Universidad de Tennessee, Knoxville, USA**\n",
    "\n",
    "Resolveremos las ecuaciones que gobiernan la dinámica de fluidos poco profundos incompresibles. El fluido está limitado inferiormente y a los costados por superficies rígidas y superiormente sin restricción. Estas ecuaciones se derivan de las ecuaciones de Navier-Stokes cuando el dominio espacial horizontal del fluido excede significativamente al vertical, manteniendo el equilibrio hidrostático y densidad constante:\n",
    "\n",
    "$$\n",
    "\\frac{\\partial h}{\\partial t} + \\frac{\\partial}{\\partial x}\\left(hu\\right) = 0\n",
    "$$\n",
    "$$\n",
    "\\frac{\\partial}{\\partial t}\\left(hu\\right) + \\frac{\\partial}{\\partial x}\\left(hu^2 + \\frac{gh^2}{2}\\right) = 0\n",
    "$$\n",
    "\n",
    "Aquí, $h$ es la altura del fluido, $u$ es la velocidad horizontal y $g$ es la aceleración de la gravedad. El movimiento del fluido está dictado exclusivamente por las ecuaciones de conservación de masa y momento."
   ]
  },
  {
   "cell_type": "markdown",
   "metadata": {},
   "source": [
    "## Paquetes utilizados\n",
    "\n",
    "En este proyecto, utilizaremos varios paquetes de Python que nos ayudarán a realizar diferentes tareas de manera eficiente. A continuación, se describen los paquetes que se utilizarán:\n",
    "\n",
    "1. **numPy**\n",
    "2. **matplotlib**\n",
    "3. **IPython**\n",
    "4. **time**"
   ]
  },
  {
   "cell_type": "code",
   "execution_count": null,
   "metadata": {},
   "outputs": [],
   "source": [
    "import numpy as np\n",
    "import matplotlib.pyplot as plt\n",
    "from IPython.display import clear_output, display\n",
    "import time"
   ]
  },
  {
   "cell_type": "markdown",
   "metadata": {},
   "source": [
    "## Scripts utilizados\n",
    "\n",
    "En esta sesion importaremos los siguientes scripts\n",
    "\n",
    "1. **bases.py**\n",
    "2. **galerkin_discontinuo.py**\n",
    "3. **paso_de_tiempo.py**\n",
    "4. **graficos.py**\n",
    "\n",
    "Puedes encontrar estos scripts en la misma ruta que este notebook"
   ]
  },
  {
   "cell_type": "code",
   "execution_count": null,
   "metadata": {},
   "outputs": [],
   "source": [
    "# !rm -r 1D-Shallow-Water-Equation\n",
    "# !git clone --branch curso_unah_sesion_3 --single-branch https://github.com/erickurquilla1999/1D-Shallow-Water-Equation.git\n",
    "# !mv 1D-Shallow-Water-Equation/*.py ./\n",
    "\n",
    "import sys\n",
    "from pathlib import Path\n",
    "\n",
    "aqui_camino = Path.cwd()\n",
    "cdg_fuente_camino = (aqui_camino / '..' / 'cdg_fuente').resolve()\n",
    "sys.path.append(str(cdg_fuente_camino))\n",
    "\n",
    "import bases\n",
    "import galerkin_discontinuo \n",
    "import paso_de_tiempo\n",
    "import graficos"
   ]
  },
  {
   "cell_type": "markdown",
   "metadata": {},
   "source": [
    "## Parámetros de entrada\n",
    "\n",
    "1. Dominio espacial de la simulación\n",
    "2. Número de elementos y número de nodos interiores por elemento\n",
    "3. Tiempo de la simulación y número de pasos\n",
    "4. Número de puntos en la cuadratura de Gauss para integración numérica"
   ]
  },
  {
   "cell_type": "code",
   "execution_count": null,
   "metadata": {},
   "outputs": [],
   "source": [
    "# Parametros de entrada\n",
    "\n",
    "# Dominio espacial de la simulacion \n",
    "x_inicial = 0 # (m) cooordenda inicial del dominio\n",
    "x_final = 10 # (m) coordenada final del dominio\n",
    "\n",
    "# Parametros del metodo de elementos finitos\n",
    "N_elementos = 6 # numero de elementos\n",
    "N_nodos = 4 # numero de nodos por elemento (por simplicidad solo consideramos N_nodos >= 2)\n",
    "\n",
    "# Dominio temporal \n",
    "n_pasos = 100/20 # numero de pasos temporales\n",
    "t_total = 1/20 # (s) tiempo final\n",
    "\n",
    "# Integracion numerica con cuadratura de Gauss\n",
    "n_nodos_cuadratura_gauss = 20"
   ]
  },
  {
   "cell_type": "code",
   "execution_count": null,
   "metadata": {},
   "outputs": [],
   "source": [
    "# Generando malla\n",
    "longitud_elemento = (x_final - x_inicial) / N_elementos\n",
    "malla = np.array([np.linspace(x_inicial + i * (x_final - x_inicial) / N_elementos, x_inicial + (i + 1) * (x_final - x_inicial) / N_elementos, N_nodos) for i in range(N_elementos)])      \n",
    "\n",
    "# Condiciones iniciales\n",
    "h = 1.0 + 0.1 * np.exp( - ( malla - 5.0 )**2 ) # Altura (m)\n",
    "u = malla * 0.0 # Velocidad horizontal (m/s)"
   ]
  },
  {
   "cell_type": "code",
   "execution_count": null,
   "metadata": {},
   "outputs": [],
   "source": [
    "cuadratura_de_gauss, pesos_de_gauss = np.polynomial.legendre.leggauss(n_nodos_cuadratura_gauss)\n",
    "polinomios_de_lagrange_en_cuadratura_de_gauss, derivada_x_polinomios_de_lagrange_en_cuadratura_de_gauss = bases.generate_reference_space(malla, cuadratura_de_gauss)\n",
    "matriz_de_masa_inversa = galerkin_discontinuo.calcula_inversa_matriz_de_masa(longitud_elemento, pesos_de_gauss, polinomios_de_lagrange_en_cuadratura_de_gauss, N_nodos)\n",
    "matriz_de_rigidez = galerkin_discontinuo.calcula_matrix_de_rigidez(longitud_elemento, pesos_de_gauss, polinomios_de_lagrange_en_cuadratura_de_gauss, derivada_x_polinomios_de_lagrange_en_cuadratura_de_gauss)"
   ]
  },
  {
   "cell_type": "code",
   "execution_count": null,
   "metadata": {},
   "outputs": [],
   "source": [
    "# time step\n",
    "time_step = np.array(t_total/n_pasos) \n",
    "\n",
    "# evolving in time the PDE\n",
    "for number_of_t_step in np.arange(n_pasos):\n",
    "\n",
    "    # calculando el vector residual\n",
    "    vector_residual_1, vector_residual_2 = paso_de_tiempo.calcular_vector_residual(h, u, matriz_de_rigidez)\n",
    "\n",
    "    # -----------------------------------------------------------------------------------------\n",
    "    # Escribe tu solucion al ejercicio 5 a continuacion ...\n",
    "\n",
    "    # inicializando los valores de d1U/dt y d2U/dt\n",
    "    d1U_dt = np.zeros((N_elementos, N_nodos))\n",
    "    d2U_dt = np.zeros((N_elementos, N_nodos))\n",
    "\n",
    "    # calculando la derivada temporal de 1U y 2U ...\n",
    "    # ... Escribe aqui d1U_dt y d2U_dt ... \n",
    "    # ... Haz un loop sobre cada elemento ...\n",
    "    # ... Utiliza la matriz de masa inversa y el vector residual en cada elemento para calcular las derivadas ...\n",
    "    for i in range(N_elementos):\n",
    "        d1U_dt[i] = matriz_de_masa_inversa @ vector_residual_1[i]\n",
    "        d2U_dt[i] = matriz_de_masa_inversa @ vector_residual_2[i]\n",
    "\n",
    "    # inicializando los valores de dh/dt y du/dt\n",
    "    dh_dt = np.zeros((N_elementos, N_nodos))\n",
    "    du_dt = np.zeros((N_elementos, N_nodos))\n",
    "\n",
    "    # calculando la derivada temporal de h y u\n",
    "    # ... Escribe aqui dh_dt y du_dt ...\n",
    "    # ... recuerda que 1U=h y 2U=hu por lo que du_dt = ( d2U_dt - u * dh_dt ) / h ...\n",
    "    dh_dt = d1U_dt\n",
    "    du_dt = np.where( h == 0 , 0 , ( d2U_dt - u * dh_dt ) / h )\n",
    "\n",
    "    # inicializando los valores de h y u en el siguiente paso de tiempo\n",
    "    h_nuevo = np.zeros((N_elementos, N_nodos))\n",
    "    u_nuevo = np.zeros((N_elementos, N_nodos))\n",
    "\n",
    "    # calculando los valores de h y u en el siguiente paso de tiempo con el metodo de Euler explicito\n",
    "    # ... Escribe aqui h_nuevo y u_nuevo dados por el metodo de Euler explicito ...\n",
    "    h_nuevo = h + dh_dt * time_step\n",
    "    u_nuevo = u + du_dt * time_step\n",
    "    \n",
    "    # -----------------------------------------------------------------------------------------\n",
    "\n",
    "    # graficando la simulacion\n",
    "    graficos.plot_simulation(malla, h_nuevo, u_nuevo, N_elementos, time_step, number_of_t_step, display=True)\n",
    "\n",
    "    # actualizando los valores de h y u\n",
    "    h = h_nuevo\n",
    "    u = u_nuevo\n",
    "\n",
    "print(f'Done')"
   ]
  }
 ],
 "metadata": {
  "colab": {
   "authorship_tag": "ABX9TyOiZ5FoHnI6fIOeiyaRKkcu",
   "provenance": []
  },
  "kernelspec": {
   "display_name": ".venv",
   "language": "python",
   "name": "python3"
  },
  "language_info": {
   "codemirror_mode": {
    "name": "ipython",
    "version": 3
   },
   "file_extension": ".py",
   "mimetype": "text/x-python",
   "name": "python",
   "nbconvert_exporter": "python",
   "pygments_lexer": "ipython3",
   "version": "3.12.3"
  }
 },
 "nbformat": 4,
 "nbformat_minor": 0
}
