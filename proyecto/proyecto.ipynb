{
 "cells": [
  {
   "cell_type": "markdown",
   "metadata": {},
   "source": [
    "# Sesion 3: Taller de tecnicas de modelado computacional de fluidos\n",
    "\n",
    "## Elementos Finitos: Metodo Galerkin Discontinuo\n",
    "\n",
    "**Por: Erick Urquilla, Universidad de Tennessee, Knoxville, USA**\n",
    "\n",
    "Resolveremos las ecuaciones que gobiernan la dinámica de fluidos poco profundos incompresibles. El fluido está limitado inferiormente y a los costados por superficies rígidas y superiormente sin restricción. Estas ecuaciones se derivan de las ecuaciones de Navier-Stokes cuando el dominio espacial horizontal del fluido excede significativamente al vertical, manteniendo el equilibrio hidrostático y densidad constante:\n",
    "\n",
    "$$\n",
    "\\frac{\\partial h}{\\partial t} + \\frac{\\partial}{\\partial x}\\left(hu\\right) = 0\n",
    "$$\n",
    "$$\n",
    "\\frac{\\partial}{\\partial t}\\left(hu\\right) + \\frac{\\partial}{\\partial x}\\left(hu^2 + \\frac{gh^2}{2}\\right) = 0\n",
    "$$\n",
    "\n",
    "Aquí, $h$ es la altura del fluido, $u$ es la velocidad horizontal y $g$ es la aceleración de la gravedad. El movimiento del fluido está dictado exclusivamente por las ecuaciones de conservación de masa y momento."
   ]
  },
  {
   "cell_type": "markdown",
   "metadata": {},
   "source": [
    "## Paquetes utilizados\n",
    "\n",
    "En este proyecto, utilizaremos varios paquetes de Python que nos ayudarán a realizar diferentes tareas de manera eficiente. A continuación, se describen los paquetes que se utilizarán:\n",
    "\n",
    "1. **numPy**\n",
    "2. **matplotlib**\n",
    "3. **IPython**\n",
    "4. **time**"
   ]
  },
  {
   "cell_type": "code",
   "execution_count": null,
   "metadata": {},
   "outputs": [],
   "source": [
    "import numpy as np\n",
    "import matplotlib.pyplot as plt\n",
    "from IPython.display import clear_output, display\n",
    "import time"
   ]
  },
  {
   "cell_type": "markdown",
   "metadata": {},
   "source": [
    "## Scripts utilizados\n",
    "\n",
    "En esta sesion importaremos los siguientes scripts\n",
    "\n",
    "1. **bases.py**\n",
    "2. **galerkin_discontinuo.py**\n",
    "3. **paso_de_tiempo.py**\n",
    "4. **graficos.py**\n",
    "\n",
    "Puedes encontrar estos scripts en la misma ruta que este notebook"
   ]
  },
  {
   "cell_type": "code",
   "execution_count": null,
   "metadata": {},
   "outputs": [],
   "source": [
    "# !rm -r 1D-Shallow-Water-Equation\n",
    "# !git clone --branch curso_unah_sesion_3 --single-branch https://github.com/erickurquilla1999/1D-Shallow-Water-Equation.git\n",
    "# !mv 1D-Shallow-Water-Equation/*.py ./\n",
    "\n",
    "import sys\n",
    "from pathlib import Path\n",
    "\n",
    "aqui_camino = Path.cwd()\n",
    "cdg_fuente_camino = (aqui_camino / '..' / 'cdg_fuente').resolve()\n",
    "sys.path.append(str(cdg_fuente_camino))\n",
    "\n",
    "import bases\n",
    "import galerkin_discontinuo \n",
    "import paso_de_tiempo\n",
    "import graficos"
   ]
  },
  {
   "cell_type": "markdown",
   "metadata": {},
   "source": [
    "## Parámetros de entrada\n",
    "\n",
    "1. Dominio espacial de la simulación\n",
    "2. Número de elementos y número de nodos interiores por elemento\n",
    "3. Tiempo de la simulación y número de pasos\n",
    "4. Número de puntos en la cuadratura de Gauss para integración numérica"
   ]
  },
  {
   "cell_type": "code",
   "execution_count": null,
   "metadata": {},
   "outputs": [],
   "source": [
    "# Parametros de entrada\n",
    "\n",
    "# Dominio espacial de la simulacion \n",
    "x_inicial = 0 # (m) cooordenda inicial del dominio\n",
    "x_final = 10 # (m) coordenada final del dominio\n",
    "\n",
    "# Parametros del metodo de elementos finitos\n",
    "N_elementos = 6 # numero de elementos\n",
    "N_nodos = 4 # numero de nodos por elemento (por simplicidad solo consideramos N_nodos >= 2)\n",
    "\n",
    "# Dominio temporal \n",
    "n_pasos = 100/20 # numero de pasos temporales\n",
    "t_total = 1/20 # (s) tiempo final\n",
    "\n",
    "# Integracion numerica con cuadratura de Gauss\n",
    "n_nodos_cuadratura_gauss = 20\n",
    "\n",
    "# Variables utiles\n",
    "longitud_elemento = (x_final - x_inicial) / N_elementos"
   ]
  },
  {
   "cell_type": "markdown",
   "metadata": {},
   "source": [
    "## Generacion de malla\n",
    "\n",
    "La generación de una malla es fundamental en el método de elementos finitos. La malla divide el dominio espacial en elementos finitos más pequeños, lo que permite aproximar la solución de la ecuación diferencial en cada uno de estos elementos. En el método Galerkin Discontinuo, cada elemento puede tener su propia solución polinómica, lo que permite capturar discontinuidades y variaciones abruptas en las variables del fluido.\n",
    "\n",
    "**Ejercicio 1:** Dadas las coordenadas inicial `x_inicial`, coordenada final `x_final`, el número de elementos `N_elementos` y el número de nodos por elemento `N_nodos`. Codifica una malla cartesiana unidimensional con las coordenadas de los nodos interiores de cada elemento (elementos y nodos igualmente espaciados en una malla regular). El numpy array resultado del ejercicio debe llamarse `malla`. La forma del array `malla` debe ser `(N_elementos, N_nodos)`. Es decir, el componente `malla[i,j]` representa la coordenada en `x` del nodo `j` del elemento `i`. \n",
    "\n",
    "Como ejemplo, observa la siguiente imagen de una `malla` con `N_elementos=3` y `N_nodos=4`. El arreglo `malla` contiene las posiciones de los nodos interiores de cada elemento.\n",
    "\n",
    "![Malla](imagenes/malla.png)"
   ]
  },
  {
   "cell_type": "code",
   "execution_count": null,
   "metadata": {},
   "outputs": [],
   "source": [
    "print(f'Generando malla \\nDominio físico: [{x_inicial},{x_final}] metros\\nNúmero de elementos: {N_elementos}\\nNodos por elemento: {N_nodos}\\n')\n",
    "\n",
    "# Generar coordenadas de los elementos y nodos en el espacio físico\n",
    "malla = np.zeros((N_elementos, N_nodos)) # nunpy array que almacenara las coordenadas de los nodos de cada elemento\n",
    "\n",
    "#-----------------------------------------------------------------------------------------\n",
    "# Escribe tu solucion al ejercicio 1 a continuacion ...\n",
    "malla = np.array([np.linspace(x_inicial + i * (x_final - x_inicial) / N_elementos, x_inicial + (i + 1) * (x_final - x_inicial) / N_elementos, N_nodos) for i in range(N_elementos)])      \n",
    "#-----------------------------------------------------------------------------------------"
   ]
  },
  {
   "cell_type": "markdown",
   "metadata": {},
   "source": [
    "## Condiciones Iniciales\n",
    "\n",
    "Las condiciones iniciales del fluido están dadas por:\n",
    "\n",
    "$$h_0 = 1 + 0.1 e^{-(x-5)^2}$$\n",
    "$$u_0 = 0$$\n",
    "\n",
    "Las fronteras del fluido están ubicadas en $x = 0$ y $x = 10$ metros.\n",
    "\n",
    "**Ejercicio 2:** Crea dos arrays de numpy que contengan las condiciones iniciales:\n",
    "\n",
    "1. El primer array debe llamarse `h` y tener la forma `(N_elementos, N_nodos)`. `h[i,j]` representará la altura en metros del fluido en el nodo $j$ del elemento $i$.\n",
    "2. El segundo array debe llamarse `u` y tener la forma `(N_elementos, N_nodos)`. `u[i,j]` representará la velocidad en metros por segundo del fluido en el nodo $j$ del elemento $i$."
   ]
  },
  {
   "cell_type": "code",
   "execution_count": null,
   "metadata": {},
   "outputs": [],
   "source": [
    "# Generando condiciones iniciales\n",
    "h = np.zeros((N_elementos, N_nodos)) # Height (cm)\n",
    "u = np.zeros((N_elementos, N_nodos)) # Velocity (cm/s)\n",
    "\n",
    "#-----------------------------------------------------------------------------------------\n",
    "# Escribe tu solucion al ejercicio 2 a continuacion ...\n",
    "h = 1.0 + 0.1 * np.exp( - ( malla - 5.0 )**2 ) # Height (cm)\n",
    "u = malla * 0.0 # Velocity (cm/s)\n",
    "#-----------------------------------------------------------------------------------------"
   ]
  },
  {
   "cell_type": "markdown",
   "metadata": {},
   "source": [
    "## Aproximación funcional de la solución: Polinomios de Lagrange\n",
    "\n",
    "Para crear una solución funcional a la ecuación de agua profunda, usaremos los polinomios de Lagrange definidos como\n",
    "$$\n",
    "\\phi_i(x) = \\prod_{\\substack{0 \\leq m \\leq p \\\\ m \\neq i}} \\frac{x - x_m}{x_i - x_m}.\n",
    "$$\n",
    "Aquí, $x_i$ es la posición del nodo $i$. \n",
    "\n",
    "Los polinomios de Lagrange tienen la siguiente propiedad:\n",
    "$$\n",
    "\\phi_i(x_j) = \\delta_{ij}.\n",
    "$$\n",
    "Utilizando los polinomios de Lagrange, una solución funcional en el elemento $k$ puede escribirse como\n",
    "$$\n",
    "u^{k}(t,x) = \\sum_{i=0}^{N} U^{k}_{i}(t)\\phi_{i}^k(x),\n",
    "$$\n",
    "donde $N$ es el número de nodos en el elemento $k$.\n",
    "\n",
    "**Ejercicio 3:** Escriba una función que, dados los nodos de un elemento, el índice $i$ del polinomio de Lagrange y una posición $x$, retorne el polinomio de Lagrange $i$ evaluado en $x$.\n"
   ]
  },
  {
   "cell_type": "code",
   "execution_count": null,
   "metadata": {},
   "outputs": [],
   "source": [
    "def polinomios_de_lagrange(nodos, i, x):\n",
    "    '''\n",
    "    Dado un conjunto de nodos en un elemento esta funcion\n",
    "    evalua el polinomio de Lagrange i (es decir el polinomio de \n",
    "    lagrange que es uno cuando es evaluado en la posicion del nodo i) \n",
    "    en x la posicion x\n",
    "\n",
    "    Parámetros:\n",
    "        nodos (numpy.ndarray): Array de nodos de un elemento de la malla.\n",
    "            ejemplo: nodos = np.array([x0, x1, ..., xN]) donde N es el numero de nodos por elemento\n",
    "        i (int): Índice del nodo en el cual el polinomio de lagrange es uno.\n",
    "            ejemplo: i = 1\n",
    "        x (float): Punto en el cual se evalúa la función base.\n",
    "            ejemplo: x = 0.5\n",
    "\n",
    "    Retorna:\n",
    "        float: Valor de la función base de Lagrange i en el punto x.\n",
    "    '''\n",
    "    \n",
    "    # inicializa el polinomio de lagrange i evaluado en x\n",
    "    polinomio_de_lagrange_i_evaluado_en_x = 1.0\n",
    "\n",
    "    #-----------------------------------------------------------------------------------------\n",
    "    # Escribe tu solucion al ejercicio 3 a continuacion ...\n",
    "    \n",
    "    # calcula el polinomio de lagrange i evaluado en x\n",
    "    for j in range(N_nodos):\n",
    "        # si j es diferente de i\n",
    "        if j != i:\n",
    "            # multiplica el polinomio de lagrange i evaluado en x por el factor correspondiente\n",
    "            polinomio_de_lagrange_i_evaluado_en_x *= (x - nodos[j]) / (nodos[i] - nodos[j])\n",
    "\n",
    "    #-----------------------------------------------------------------------------------------\n",
    "\n",
    "    return polinomio_de_lagrange_i_evaluado_en_x\n",
    "\n",
    "# Verifica que tu solucion satisface la propiedad de los polinomios de lagrange \n",
    "# \\phi_i(x_j) = \\delta_{ij}\n",
    "nodos_prueba = malla[0]\n",
    "i_prueba = 1\n",
    "x_prueba = 0\n",
    "phi_prueba = polinomios_de_lagrange(nodos_prueba, i_prueba, x_prueba)\n",
    "print(f\"Para los nodos {nodos_prueba}, el polinomio de lagrange i={i_prueba} evaluado en x={x_prueba} es {phi_prueba}\")"
   ]
  },
  {
   "cell_type": "markdown",
   "metadata": {},
   "source": [
    "## Generando cuadratura y pesos de Gauss para integracion numerica\n",
    "\n",
    "La cuadratura de Gauss es un método para aproximar la integral de una función utilizando una suma ponderada de los valores de la función en puntos específicos dentro del dominio de integración. La fórmula general para la cuadratura de Gauss es:\n",
    "\n",
    "$$\n",
    "\\int_a^b f(x) \\, dx \\approx \\frac{b - a}{2} \\sum_{i=1}^n w_i \\, f\\left( x_i \\right)\n",
    "$$\n",
    "$$\n",
    "x_i = \\frac{b - a}{2} \\xi_i + \\frac{a + b}{2}\n",
    "$$\n",
    "donde:\n",
    "- $\\xi_i$ es el nodos de Gauss $i$ and $\\xi_i\\in[-1,1]$.\n",
    "- $w_i$ son los pesos asociados a cada punto de evaluación.\n",
    "- $n$ es el número de puntos de evaluación.\n",
    "\n",
    "Los puntos $x_i$ y los pesos $w_i$ se eligen de tal manera que el método sea exacto para polinomios de grado $2n-1$ o menor. Estos puntos y pesos se derivan de los polinomios de Legendre, que son ortogonales en el intervalo $[-1, 1]$.\n",
    "\n",
    "En la siguiente linea de codigo obtendremos la cuadratura de Gauss y los pesos de Gauss."
   ]
  },
  {
   "cell_type": "code",
   "execution_count": null,
   "metadata": {},
   "outputs": [],
   "source": [
    "cuadratura_de_gauss, pesos_de_gauss = np.polynomial.legendre.leggauss(n_nodos_cuadratura_gauss)"
   ]
  },
  {
   "cell_type": "markdown",
   "metadata": {},
   "source": [
    "## La siguiente de codigo calcula:\n",
    "\n",
    "2. Evalua los polinomios de lagrange en la cuadratura de Gauss\n",
    "3. Evalua las derivada en $x$ de los polinomios de lagrange en la cuadratura de Gauss"
   ]
  },
  {
   "cell_type": "code",
   "execution_count": null,
   "metadata": {},
   "outputs": [],
   "source": [
    "polinomios_de_lagrange_en_cuadratura_de_gauss, derivada_x_polinomios_de_lagrange_en_cuadratura_de_gauss = bases.generate_reference_space(malla, cuadratura_de_gauss, polinomios_de_lagrange)"
   ]
  },
  {
   "cell_type": "markdown",
   "metadata": {},
   "source": [
    "## Calculo de la matriz de masa\n",
    "\n",
    "En esta secion calcularemos la matriz de masa definida como\n",
    "$$\n",
    "M_{ij} = \\int _{x_0}^{x_{N-1}} \\phi_{i}(x)\\phi_{j}(x)\\,dx.\n",
    "$$\n",
    "Para calcular la intengral usaremos el metodo de cuadratura de Gauss\n",
    "$$\n",
    "M_{ij} = \\frac{L}{2} \\sum_{m=0}^{n-1} w_i \\, \\phi_{i}(x_m)\\phi_{j}(x_m),\n",
    "$$\n",
    "aqui $L = x_{N-1}-x_0$ es la longitud de los elementos y $n$ es el numero de nodos en la cuadratura de Gauss\n",
    "\n",
    "Ejercicio 4: Calcule la matriz de masa utilizando las formulas mostradas anteriormente."
   ]
  },
  {
   "cell_type": "code",
   "execution_count": null,
   "metadata": {},
   "outputs": [],
   "source": [
    "\n",
    "def calcula_inversa_matriz_de_masa(longitud_elemento_, pesos_de_gauss_, polinomios_de_lagrange_en_cuadratura_de_gauss_):\n",
    "    \"\"\"\n",
    "    Calcula la inversa de la matriz de masa para un elemento finito unidimensional.\n",
    "\n",
    "    Parametros:\n",
    "\n",
    "    longitud_elemento_ (float): La longitud del elemento finito.\n",
    "        ejemplo: longitud_elemento = 1.0\n",
    "\n",
    "    pesos_de_gauss_ (numpy.ndarray): Los pesos de Gauss utilizados en la cuadratura de Gauss.\n",
    "        ejemplo: pesos_de_gauss = [w0, w1, ..., wN] donde N es el numero de nodos de cuadratura de Gauss\n",
    "    \n",
    "    polinomios_de_lagrange_en_cuadratura_de_gauss_ (numpy.ndarray): Los valores de los polinomios de Lagrange evaluados en los puntos de cuadratura de Gauss.\n",
    "        ejemplo: \n",
    "            polinomios_de_lagrange_en_cuadratura_de_gauss_ = [[phi_0(x_0), phi_0(x_1), ..., phi_0(x_N)], [phi_1(x_0), phi_1(x_1), ..., phi_1(x_N)], ..., [phi_N(x_0), phi_N(x_1), ..., phi_N(x_N)]]\n",
    "            polinomios_de_lagrange_en_cuadratura_de_gauss_[i] es un array con los valores de phi_i(x) evaluados en los nodos de cuadratura de Gauss.\n",
    "            polinomios_de_lagrange_en_cuadratura_de_gauss_[i] = [phi_i(x_0), phi_i(x_1), ..., phi_i(x_N)]\n",
    "\n",
    "    Retorna:\n",
    "    \n",
    "    numpy.ndarray: La inversa de la matriz de masa.\n",
    "    \"\"\"\n",
    "\n",
    "    # Inicializa la matriz de masa\n",
    "    matriz_de_masa = np.zeros((N_nodos, N_nodos))\n",
    "\n",
    "    #-----------------------------------------------------------------------------------------\n",
    "    # Escribe tu solucion al ejercicio 4 a continuacion ...\n",
    "\n",
    "    # Calcula la matriz de masa\n",
    "    for i in range(N_nodos):\n",
    "        for j in range(N_nodos):\n",
    "            # Calcula la integral de phi_i(x) * phi_j(x) dx\n",
    "            matriz_de_masa[i, j] = 0.5 * longitud_elemento_ * np.sum(pesos_de_gauss_ * polinomios_de_lagrange_en_cuadratura_de_gauss_[i] * polinomios_de_lagrange_en_cuadratura_de_gauss_[j])\n",
    "    # Calcula la inversa de la matriz de masa\n",
    "    inversa_matriz_de_masa = np.linalg.inv(matriz_de_masa)\n",
    "\n",
    "    #-----------------------------------------------------------------------------------------\n",
    "\n",
    "    return inversa_matriz_de_masa\n",
    "\n",
    "# calcula la matriz de masa inversa, esto es la inversa de la matriz: M_ij = integral phi_i(x) phi_j(x) dx\n",
    "matriz_de_masa_inversa = calcula_inversa_matriz_de_masa(longitud_elemento, pesos_de_gauss, polinomios_de_lagrange_en_cuadratura_de_gauss)"
   ]
  },
  {
   "cell_type": "markdown",
   "metadata": {},
   "source": [
    "## Calculo de la matriz de rigidez\n",
    "\n",
    "En esta seccion se calcula la matriz de rigidez definida como\n",
    "$$\n",
    "S_{ij} = \\int _{x_0}^{x_{N-1}} \\frac{d\\phi_{i}(x)}{dx}\\phi_{j}(x)\\,dx.\n",
    "$$"
   ]
  },
  {
   "cell_type": "code",
   "execution_count": null,
   "metadata": {},
   "outputs": [],
   "source": [
    "# calcula la matriz de rigidez S_ij = integral (dphi_i(x)/dx)phi_j(x) dx\n",
    "matriz_de_rigidez = galerkin_discontinuo.calcula_matrix_de_rigidez(longitud_elemento, pesos_de_gauss, polinomios_de_lagrange_en_cuadratura_de_gauss, derivada_x_polinomios_de_lagrange_en_cuadratura_de_gauss)"
   ]
  },
  {
   "cell_type": "markdown",
   "metadata": {},
   "source": [
    "## Evolucion temporal de la solucion\n",
    "\n",
    "El método de Euler hacia adelante es un método numérico simple y explícito para resolver ecuaciones diferenciales ordinarias (ODEs). Se basa en la aproximación de la derivada de una función en un punto utilizando diferencias finitas. La fórmula general del método de Euler hacia adelante es:\n",
    "\n",
    "$$\n",
    "y_{n+1} = y_n + \\Delta t \\cdot \\frac{dy(t_n)}{dt}\n",
    "$$\n",
    "\n",
    "donde:\n",
    "- $y_{n+1}$ es el valor de la solución en el siguiente paso de tiempo.\n",
    "- $y_n$ es el valor de la solución en el paso de tiempo actual.\n",
    "- $\\Delta t$ es el tamaño del paso de tiempo.\n",
    "- $f(t_n, y_n)$ es la función que describe la derivada de $y$ con respecto al tiempo en el paso de tiempo actual.\n",
    "\n",
    "Este método es fácil de implementar y computacionalmente eficiente, pero puede ser inestable si el tamaño del paso de tiempo no es lo suficientemente pequeño.\n",
    "\n",
    "En nuestro caso $d\\vec{U}^k_i(t)/dt$ vendra dada por \n",
    "$$\n",
    "\\frac{d\\vec{U}^k_i(t)}{dt} = \\sum_{j=0}^{N-1} M^{-1}_{ij}\\vec{R}_j\n",
    "$$\n",
    "\n",
    "**Ejercicio 5**: Escriba el metodo Euler hacia adelante para evaluar la evolucion temporal de $\\vec{U}^k_i$. Esto es\n",
    "$$\n",
    "\\vec{U}^k_{i}(t_{n+1}) = \\vec{U}^k_{i}(t_{n}) + \\Delta t \\frac{d\\vec{U}^k_i(t_n)}{dt}\n",
    "$$"
   ]
  },
  {
   "cell_type": "code",
   "execution_count": null,
   "metadata": {},
   "outputs": [],
   "source": [
    "# time step\n",
    "time_step = np.array(t_total/n_pasos) \n",
    "\n",
    "# evolving in time the PDE\n",
    "for number_of_t_step in np.arange(n_pasos):\n",
    "\n",
    "    # calculando el vector residual\n",
    "    vector_residual_1, vector_residual_2 = paso_de_tiempo.calcular_vector_residual(h, u, matriz_de_rigidez)\n",
    "\n",
    "    # -----------------------------------------------------------------------------------------\n",
    "    # Escribe tu solucion al ejercicio 5 a continuacion ...\n",
    "\n",
    "    # inicializando los valores de d1U/dt y d2U/dt\n",
    "    d1U_dt = np.zeros((N_elementos, N_nodos))\n",
    "    d2U_dt = np.zeros((N_elementos, N_nodos))\n",
    "\n",
    "    # calculando la derivada temporal de 1U y 2U ...\n",
    "    # ... Escribe aqui d1U_dt y d2U_dt ... \n",
    "    # ... Haz un loop sobre cada elemento ...\n",
    "    # ... Utiliza la matriz de masa inversa y el vector residual en cada elemento para calcular las derivadas ...\n",
    "    for i in range(N_elementos):\n",
    "        d1U_dt[i] = matriz_de_masa_inversa @ vector_residual_1[i]\n",
    "        d2U_dt[i] = matriz_de_masa_inversa @ vector_residual_2[i]\n",
    "\n",
    "    # inicializando los valores de dh/dt y du/dt\n",
    "    dh_dt = np.zeros((N_elementos, N_nodos))\n",
    "    du_dt = np.zeros((N_elementos, N_nodos))\n",
    "\n",
    "    # calculando la derivada temporal de h y u\n",
    "    # ... Escribe aqui dh_dt y du_dt ...\n",
    "    # ... recuerda que 1U=h y 2U=hu por lo que du_dt = ( d2U_dt - u * dh_dt ) / h ...\n",
    "    dh_dt = d1U_dt\n",
    "    du_dt = np.where( h == 0 , 0 , ( d2U_dt - u * dh_dt ) / h )\n",
    "\n",
    "    # inicializando los valores de h y u en el siguiente paso de tiempo\n",
    "    h_nuevo = np.zeros((N_elementos, N_nodos))\n",
    "    u_nuevo = np.zeros((N_elementos, N_nodos))\n",
    "\n",
    "    # calculando los valores de h y u en el siguiente paso de tiempo con el metodo de Euler explicito\n",
    "    # ... Escribe aqui h_nuevo y u_nuevo dados por el metodo de Euler explicito ...\n",
    "    h_nuevo = h + dh_dt * time_step\n",
    "    u_nuevo = u + du_dt * time_step\n",
    "    \n",
    "    # -----------------------------------------------------------------------------------------\n",
    "\n",
    "    # graficando la simulacion\n",
    "    graficos.plot_simulation(malla, h_nuevo, u_nuevo, N_elementos, time_step, number_of_t_step)\n",
    "\n",
    "    # actualizando los valores de h y u\n",
    "    h = h_nuevo\n",
    "    u = u_nuevo\n",
    "\n",
    "print(f'Done')"
   ]
  }
 ],
 "metadata": {
  "colab": {
   "authorship_tag": "ABX9TyOiZ5FoHnI6fIOeiyaRKkcu",
   "provenance": []
  },
  "kernelspec": {
   "display_name": ".venv",
   "language": "python",
   "name": "python3"
  },
  "language_info": {
   "codemirror_mode": {
    "name": "ipython",
    "version": 3
   },
   "file_extension": ".py",
   "mimetype": "text/x-python",
   "name": "python",
   "nbconvert_exporter": "python",
   "pygments_lexer": "ipython3",
   "version": "3.12.3"
  }
 },
 "nbformat": 4,
 "nbformat_minor": 0
}
