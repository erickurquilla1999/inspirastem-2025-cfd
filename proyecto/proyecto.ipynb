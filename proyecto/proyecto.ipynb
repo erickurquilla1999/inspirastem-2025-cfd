{
 "cells": [
  {
   "cell_type": "markdown",
   "metadata": {},
   "source": [
    "# Técnicas Computacionales Avanzadas de Hidro/Aero-Dinámica en Ingeniería y Astrofísica\n",
    "\n",
    "## Elementos Finitos: Metodo Galerkin Discontinuo\n",
    "\n",
    "**MSc Erick Urquilla, Universidad de Tennessee, Knoxville, USA**\n",
    "\n",
    "Resolveremos las ecuaciones que gobiernan la dinámica de fluidos poco profundos incompresibles. El fluido está limitado inferiormente y a los costados por superficies rígidas y superiormente sin restricción. Estas ecuaciones se derivan de las ecuaciones de Navier-Stokes cuando el dominio espacial horizontal del fluido excede significativamente al vertical, manteniendo el equilibrio hidrostático y densidad constante:\n",
    "\n",
    "$$\n",
    "\\frac{\\partial h}{\\partial t} + \\frac{\\partial}{\\partial x}\\left(hu\\right) = 0\n",
    "$$\n",
    "$$\n",
    "\\frac{\\partial}{\\partial t}\\left(hu\\right) + \\frac{\\partial}{\\partial x}\\left(hu^2 + \\frac{gh^2}{2}\\right) = 0\n",
    "$$\n",
    "\n",
    "Aquí, $h$ es la altura del fluido, $u$ es la velocidad horizontal y $g$ es la aceleración de la gravedad. El movimiento del fluido está dictado exclusivamente por las ecuaciones de conservación de masa y momento."
   ]
  },
  {
   "cell_type": "markdown",
   "metadata": {},
   "source": [
    "### Importaremos los paquetes necesarios"
   ]
  },
  {
   "cell_type": "code",
   "execution_count": null,
   "metadata": {},
   "outputs": [],
   "source": [
    "import numpy as np\n",
    "import matplotlib.pyplot as plt\n",
    "from IPython.display import Image, display\n",
    "import time\n",
    "import os\n",
    "import glob\n",
    "import imageio.v2 as imageio\n",
    "import sys\n",
    "from pathlib import Path"
   ]
  },
  {
   "cell_type": "markdown",
   "metadata": {},
   "source": [
    "### Importando los scripts con el código de Galerkin discontinuo"
   ]
  },
  {
   "cell_type": "code",
   "execution_count": null,
   "metadata": {},
   "outputs": [],
   "source": [
    "aqui_camino = Path.cwd()\n",
    "cdg_fuente_camino = (aqui_camino / '..' / 'cdg_fuente').resolve()\n",
    "sys.path.append(str(cdg_fuente_camino))\n",
    "\n",
    "import bases\n",
    "import galerkin_discontinuo \n",
    "import paso_de_tiempo\n",
    "import graficos"
   ]
  },
  {
   "cell_type": "markdown",
   "metadata": {},
   "source": [
    "### Parámetros de entrada\n",
    "\n",
    "| Nombre de la variable | Unidades | Descripción |\n",
    "|-----------------------|----------|-------------|\n",
    "| **x_inicial**         | m        | Coordenada inicial del dominio espacial donde comienza la simulación. |\n",
    "| **x_final**           | m        | Coordenada final del dominio espacial.|\n",
    "| **N_elementos**       | —        | Número de elementos finitos en los que se subdivide el dominio espacial. Afecta la resolución espacial. |\n",
    "| **N_nodos**           | —        | Número de nodos (o puntos de interpolación) dentro de cada elemento. Para simplicidad se asume `N_nodos ≥ 2`. |\n",
    "| **n_pasos**           | —        | Número de pasos de tiempo que se ejecutarán en la simulación. Determina la resolución temporal. |\n",
    "| **t_total**           | s        | Tiempo total de la simulación. |\n",
    "| **n_nodos_cuadratura_gauss** | — | Número de nodos (puntos) utilizados en la cuadratura de Gauss para integrar numéricamente las funciones dentro de cada elemento. Un mayor número incrementa la precisión de la integración. |\n"
   ]
  },
  {
   "cell_type": "code",
   "execution_count": null,
   "metadata": {},
   "outputs": [],
   "source": [
    "# Dominio espacial de la simulacion \n",
    "x_inicial = 0 # (m) cooordenda inicial del dominio\n",
    "x_final = 10 # (m) coordenada final del dominio\n",
    "\n",
    "# Parametros del metodo de elementos finitos\n",
    "N_elementos = 6 # numero de elementos\n",
    "N_nodos = 4 # numero de nodos por elemento (por simplicidad solo consideramos N_nodos >= 2)\n",
    "\n",
    "# Dominio temporal \n",
    "n_pasos = 100 # numero de pasos temporales\n",
    "t_total = 1 # (s) tiempo final\n",
    "\n",
    "# Integracion numerica con cuadratura de Gauss\n",
    "n_nodos_cuadratura_gauss = 20"
   ]
  },
  {
   "cell_type": "markdown",
   "metadata": {},
   "source": [
    "### Generacion de malla y condiciones iniciales"
   ]
  },
  {
   "cell_type": "code",
   "execution_count": null,
   "metadata": {},
   "outputs": [],
   "source": [
    "# Generando malla\n",
    "longitud_elemento = (x_final - x_inicial) / N_elementos\n",
    "malla = np.array([np.linspace(x_inicial + i * (x_final - x_inicial) / N_elementos, x_inicial + (i + 1) * (x_final - x_inicial) / N_elementos, N_nodos) for i in range(N_elementos)])      \n",
    "\n",
    "# Condiciones iniciales\n",
    "h = 1.0 + 0.1 * np.exp( - ( malla - 5.0 )**2 ) # Altura (m)\n",
    "u = malla * 0.0 # Velocidad horizontal (m/s)\n",
    "\n",
    "# creando carpeta para guardar las imagenes\n",
    "os.makedirs('imagenes', exist_ok=True)\n",
    "for f in glob.glob('imagenes/*.png'):\n",
    "    os.remove(f)\n",
    "\n",
    "graficos.plot_simulation(malla, h, u, N_elementos, 0, 0, display=True)"
   ]
  },
  {
   "cell_type": "markdown",
   "metadata": {},
   "source": [
    "### Llamando funciones del metodo de Dicontinuos Galerkin"
   ]
  },
  {
   "cell_type": "code",
   "execution_count": null,
   "metadata": {},
   "outputs": [],
   "source": [
    "cuadratura_de_gauss, pesos_de_gauss = np.polynomial.legendre.leggauss(n_nodos_cuadratura_gauss)\n",
    "polinomios_de_lagrange_en_cuadratura_de_gauss, derivada_x_polinomios_de_lagrange_en_cuadratura_de_gauss = bases.generate_reference_space(malla, cuadratura_de_gauss)\n",
    "matriz_de_masa_inversa = galerkin_discontinuo.calcula_inversa_matriz_de_masa(longitud_elemento, pesos_de_gauss, polinomios_de_lagrange_en_cuadratura_de_gauss, N_nodos)\n",
    "matriz_de_rigidez = galerkin_discontinuo.calcula_matrix_de_rigidez(longitud_elemento, pesos_de_gauss, polinomios_de_lagrange_en_cuadratura_de_gauss, derivada_x_polinomios_de_lagrange_en_cuadratura_de_gauss)"
   ]
  },
  {
   "cell_type": "markdown",
   "metadata": {},
   "source": [
    "### Evolucion temporal de la solucion: Método de Euler hacia adelante"
   ]
  },
  {
   "cell_type": "code",
   "execution_count": null,
   "metadata": {},
   "outputs": [],
   "source": [
    "# paso de tiempo\n",
    "paso_t = np.array(t_total/n_pasos) \n",
    "\n",
    "# evolucionando en el tiempo la ecuacion diferencial\n",
    "for numero_de_paso in np.arange(n_pasos+1):\n",
    "\n",
    "    print(f'paso {numero_de_paso}')\n",
    "\n",
    "    graficos.plot_simulation(malla, h, u, N_elementos, paso_t, numero_de_paso, display=False)\n",
    "\n",
    "    dh_dt, du_dt = paso_de_tiempo.compute_dhdt_du_dt(h, u, matriz_de_rigidez, matriz_de_masa_inversa)\n",
    "\n",
    "    h += dh_dt * paso_t\n",
    "    u += du_dt * paso_t\n",
    "\n",
    "print(f'Done')"
   ]
  },
  {
   "cell_type": "markdown",
   "metadata": {},
   "source": [
    "### Graficando la solución"
   ]
  },
  {
   "cell_type": "code",
   "execution_count": null,
   "metadata": {},
   "outputs": [],
   "source": [
    "duracion_por_cuadro = 0.3  # segundos\n",
    "\n",
    "files = sorted(glob.glob(\"./imagenes/plt*.png\"))\n",
    "files = sorted(files, key=lambda x: int(os.path.splitext(os.path.basename(x))[0][3:]))\n",
    "\n",
    "frames = [imageio.imread(f) for f in files]\n",
    "imageio.mimsave(\"imagenes/animacion.gif\", frames, duration=duracion_por_cuadro)\n",
    "\n",
    "display(Image(filename=\"imagenes/animacion.gif\"))"
   ]
  }
 ],
 "metadata": {
  "colab": {
   "authorship_tag": "ABX9TyOiZ5FoHnI6fIOeiyaRKkcu",
   "provenance": []
  },
  "kernelspec": {
   "display_name": ".venv",
   "language": "python",
   "name": "python3"
  },
  "language_info": {
   "codemirror_mode": {
    "name": "ipython",
    "version": 3
   },
   "file_extension": ".py",
   "mimetype": "text/x-python",
   "name": "python",
   "nbconvert_exporter": "python",
   "pygments_lexer": "ipython3",
   "version": "3.12.3"
  }
 },
 "nbformat": 4,
 "nbformat_minor": 0
}
